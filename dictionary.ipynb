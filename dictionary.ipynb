{
 "cells": [
  {
   "cell_type": "code",
   "execution_count": 1,
   "metadata": {},
   "outputs": [],
   "source": [
    "from bs4 import BeautifulSoup\n",
    "import pandas as pd\n",
    "import csv\n",
    "import requests\n",
    "from tqdm import tqdm"
   ]
  },
  {
   "cell_type": "markdown",
   "metadata": {},
   "source": [
    "### Gets all the words for search from CSV file "
   ]
  },
  {
   "cell_type": "code",
   "execution_count": 2,
   "metadata": {},
   "outputs": [],
   "source": [
    "def get_words(file_add):\n",
    "    word_csv = pd.read_csv(file_add)\n",
    "    words = []\n",
    "    for i in word_csv['word']:\n",
    "        words.append(i)\n",
    "    return words    "
   ]
  },
  {
   "cell_type": "markdown",
   "metadata": {},
   "source": [
    "Returns a list containg all the words from CSV file "
   ]
  },
  {
   "cell_type": "markdown",
   "metadata": {},
   "source": [
    "### Extracts the meanings of a single word from Google Dictionary"
   ]
  },
  {
   "cell_type": "markdown",
   "metadata": {},
   "source": [
    " Google Dictionary was an online dictionary service, originating in its Google Translate service.\n",
    " Link : https://googledictionary.freecollocation.com/"
   ]
  },
  {
   "cell_type": "code",
   "execution_count": 3,
   "metadata": {},
   "outputs": [],
   "source": [
    "def get_meaning(word):\n",
    "    url = \"https://googledictionary.freecollocation.com/meaning?word=\" + word\n",
    "    response = requests.get(url)\n",
    "    soupBody = BeautifulSoup(response.content,features = \"html.parser\")\n",
    "    text = soupBody.findAll(\"li\", {\"style\" : \"list-style:decimal\"})\n",
    "    meanings_with_codes = []\n",
    "    for i in text: \n",
    "        meanings_with_codes.append(i.text)\n",
    "    meanings_raw = []\n",
    "    for i in range(0, len(meanings_with_codes)):\n",
    "        if \"-\" in meanings_with_codes[i]:\n",
    "            meanings_raw.append(meanings_with_codes[i][:meanings_with_codes[i].index(\"-\")])\n",
    "        else :\n",
    "            meanings_raw.append(meanings_with_codes[i])\n",
    "    meanings_1 = []\n",
    "    for sub in meanings_raw:\n",
    "        meanings_1.append(sub.replace(\"\\n\", \"\"))\n",
    "    meanings = []\n",
    "    for sub in meanings_1:\n",
    "        meanings.append(sub.replace(\";\", \" or\"))     \n",
    "    return meanings  "
   ]
  },
  {
   "cell_type": "markdown",
   "metadata": {},
   "source": [
    "Returns a list containg all the meanings of word "
   ]
  },
  {
   "cell_type": "markdown",
   "metadata": {},
   "source": [
    "### Uses  get_meaning() function to extract the meanings of all the words"
   ]
  },
  {
   "cell_type": "code",
   "execution_count": 4,
   "metadata": {
    "scrolled": true
   },
   "outputs": [],
   "source": [
    "def meaning_extraction(words):\n",
    "    rows = []\n",
    "    for i in tqdm(range(len(words)), desc = \"Meaning Extraction\"):\n",
    "        meanings = get_meaning(words[i])\n",
    "        x = []\n",
    "        for j in (range(len(meanings))):\n",
    "            x.append(meanings[j])\n",
    "        rows.append([words[i]]+x)\n",
    "    return rows    "
   ]
  },
  {
   "cell_type": "markdown",
   "metadata": {},
   "source": [
    "Returns a list rows containg all the meanings of all word in a 2D list format "
   ]
  },
  {
   "cell_type": "markdown",
   "metadata": {},
   "source": [
    "### Writes the meanings in CSV file  "
   ]
  },
  {
   "cell_type": "code",
   "execution_count": 5,
   "metadata": {},
   "outputs": [],
   "source": [
    "def write_csv(filename,header,rows):\n",
    "    with open(\"results/\"+filename, 'w') as csvfile:  \n",
    "        csvwriter = csv.writer(csvfile)  \n",
    "        csvwriter.writerow(header)  \n",
    "        csvwriter.writerows(rows)\n",
    "    return None"
   ]
  },
  {
   "cell_type": "markdown",
   "metadata": {},
   "source": [
    "### Main function "
   ]
  },
  {
   "cell_type": "code",
   "execution_count": 6,
   "metadata": {},
   "outputs": [],
   "source": [
    "def main(file_add,filename):\n",
    "    words = get_words(file_add)\n",
    "    rows = meaning_extraction(words)\n",
    "    \n",
    "    header = [\"word\",\"Meaning 1\",\"Meaning 2\", \"Meaning 3\", \"Meaning 4\"]\n",
    "    write_csv(filename,header,rows)\n",
    "    print(\"File Saved Successfully\")\n",
    "    return None"
   ]
  },
  {
   "cell_type": "markdown",
   "metadata": {},
   "source": [
    "### Defining the  file address and name"
   ]
  },
  {
   "cell_type": "code",
   "execution_count": 7,
   "metadata": {},
   "outputs": [],
   "source": [
    "file_add = \"data/words.csv\"\n",
    "filename = \"results.csv\""
   ]
  },
  {
   "cell_type": "markdown",
   "metadata": {},
   "source": [
    "### Calling the Main function  "
   ]
  },
  {
   "cell_type": "code",
   "execution_count": 12,
   "metadata": {},
   "outputs": [
    {
     "name": "stderr",
     "output_type": "stream",
     "text": [
      "Meaning Extraction: 100%|██████████| 487/487 [05:28<00:00,  1.48it/s]"
     ]
    },
    {
     "name": "stdout",
     "output_type": "stream",
     "text": [
      "File Saved Successfully\n"
     ]
    },
    {
     "name": "stderr",
     "output_type": "stream",
     "text": [
      "\n"
     ]
    }
   ],
   "source": [
    "main(file_add,filename)"
   ]
  }
 ],
 "metadata": {
  "kernelspec": {
   "display_name": "Python 3",
   "language": "python",
   "name": "python3"
  },
  "language_info": {
   "codemirror_mode": {
    "name": "ipython",
    "version": 3
   },
   "file_extension": ".py",
   "mimetype": "text/x-python",
   "name": "python",
   "nbconvert_exporter": "python",
   "pygments_lexer": "ipython3",
   "version": "3.8.5"
  }
 },
 "nbformat": 4,
 "nbformat_minor": 5
}
